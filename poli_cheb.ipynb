{
 "cells": [
  {
   "cell_type": "code",
   "execution_count": null,
   "metadata": {},
   "outputs": [],
   "source": [
    "### Raízes chebyshev #####\n",
    "function raizes_cheby(ordem)\n",
    "    m = ordem + 1\n",
    "    raizes = -cos.((2*LinRange(1,m,m) .-1)*pi/(2*m))\n",
    "    return raizes\n",
    "end"
   ]
  },
  {
   "cell_type": "code",
   "execution_count": null,
   "metadata": {},
   "outputs": [],
   "source": [
    "## polinomio de chebyshev não recursivo \n",
    "function poli_cheb(ordem;capital)\n",
    "    d = ordem\n",
    "    t = zeros(length(capital),d+1)\n",
    "    for j in 0:d\n",
    "        t[:,j + 1] = cos.(j*acos.(capital))\n",
    "    end\n",
    "    return t\n",
    "end"
   ]
  },
  {
   "cell_type": "code",
   "execution_count": null,
   "metadata": {},
   "outputs": [],
   "source": [
    "function consumo(gamas;teis)\n",
    "    c = teis*gamas\n",
    "    return c\n",
    "end"
   ]
  },
  {
   "cell_type": "code",
   "execution_count": null,
   "metadata": {},
   "outputs": [],
   "source": [
    "#################################\n",
    "## tudo isso na função residuo ##\n",
    "#################################\n",
    "function res_pc(gamas,d,grid_z,P)\n",
    "    nz = length(grid_z)\n",
    "    res = zeros(d+1,nz)\n",
    "\n",
    "    r_1 = raizes_cheby(d) # raízes para calcular o polinomio\n",
    "    k_0 = cb_ss(r_1) # capital em nível\n",
    "\n",
    "    t = poli_cheb(d; capital = r_1) # termos do polinomio\n",
    "\n",
    "    c_0 = consumo(gamas; teis = t) # consumo com polinomios\n",
    "\n",
    "    k_1 = k_0.^(1/3)*grid_z' .+ (1 - 0.012).*k_0 .- c_0\n",
    "    capital_1 = cb_zero(k_1)  # normalizamos p/ [-1,1]\n",
    "\n",
    "    for estado in 1:nz\n",
    "        teis_1 = poli_cheb(d; capital = capital_1[:,estado]) # polinomios novos\n",
    "        c_1 = consumo(gamas;teis = teis_1)\n",
    "        ulinha = c_1.^(-2)\n",
    "        dcdk = (1/3)*k_1[:,estado].^(-2/3)*grid_z' .+ (1-0.012) \n",
    "        lde = ulinha.*dcdk\n",
    "        for id in 1:d+1\n",
    "            res[id,estado] = c_0[id,estado]^(-2) - 0.987*dot(P[estado,:],lde[id,:])\n",
    "        end\n",
    "    end\n",
    "    return res\n",
    "end\n"
   ]
  },
  {
   "cell_type": "code",
   "execution_count": null,
   "metadata": {},
   "outputs": [],
   "source": [
    "function gama_otimo_pc(d,grid_z,P)\n",
    "    nz = length(grid_z)\n",
    "    guess = ones(2,nz)\n",
    "    s=1\n",
    "    gamaotimo = Array\n",
    "    while s <= 5\n",
    "        g(gamas) = res_pc(gamas,s,S,P)\n",
    "        gamaotimo = nlsolve(g,guess).zero\n",
    "        guess = vcat(gamaotimo, zeros(1,nz))\n",
    "        s = s+1\n",
    "    end\n",
    "    return gamaotimo\n",
    "end"
   ]
  },
  {
   "cell_type": "code",
   "execution_count": null,
   "metadata": {},
   "outputs": [],
   "source": [
    "function policy_pc(d,grid_k,grid_z,P)\n",
    "    r_1 = cb_zero(grid_k)\n",
    "    t = poli_cheb(d; capital = r_1) # termos do polinomio\n",
    "\n",
    "    c_0 = consumo(gama_otimo_pc(d,grid_z,P); teis = t) # consumo com polinomios\n",
    "\n",
    "    k_1 = grid_k.^(1/3)*grid_z' .+ (1 - 0.012).*grid_k .- c_0\n",
    "\n",
    "    return c_0, k_1\n",
    "end"
   ]
  },
  {
   "cell_type": "code",
   "execution_count": null,
   "metadata": {},
   "outputs": [],
   "source": [
    "##########################\n",
    "#### erros de Euler ######\n",
    "function euler_error_pc(gamas,d,grid_k,grid_z,P)\n",
    "    nz = length(grid_z)\n",
    "    nk = length(grid_k)\n",
    "    r_1 = cb_zero(grid_k)\n",
    "    t = poli_cheb(d; capital = r_1) # termos do polinomio\n",
    "\n",
    "    c_0 = consumo(gamas; teis = t) # consumo com polinomios\n",
    "\n",
    "    k_1 = grid_k.^(1/3)*grid_z' .+ (1 - 0.012).*grid_k .- c_0\n",
    "    capital_1 = cb_zero(k_1)  # normalizamos p/ [-1,1]\n",
    "\n",
    "    for estado in 1:nz\n",
    "        teis_1 = poli_cheb(d; capital = capital_1[:,estado]) # polinomios novos\n",
    "        c_1 = consumo(gamas;teis = teis_1)\n",
    "        ulinha = c_1.^(-2)\n",
    "        dcdk = (1/3)*k_1[:,estado].^(-2/3)*grid_z' .+ (1-0.012) \n",
    "        lde = ulinha.*dcdk\n",
    "        for id in 1:nk\n",
    "             inversa = (0.987*dot(P[estado,:],lde[id,:]))^(-1/2)\n",
    "             eee[id,estado] = 1 - inversa/c_0[id,estado]\n",
    "        end\n",
    "    end\n",
    "    eee = log10.(abs.(eee))\n",
    "    return eee\n",
    "end\n"
   ]
  }
 ],
 "metadata": {
  "kernelspec": {
   "display_name": "Julia 1.7.2",
   "language": "julia",
   "name": "julia-1.7"
  },
  "language_info": {
   "file_extension": ".jl",
   "mimetype": "application/julia",
   "name": "julia",
   "version": "1.7.2"
  },
  "orig_nbformat": 4
 },
 "nbformat": 4,
 "nbformat_minor": 2
}
